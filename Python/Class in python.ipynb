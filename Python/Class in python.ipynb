{
 "cells": [
  {
   "cell_type": "code",
   "execution_count": 30,
   "metadata": {},
   "outputs": [
    {
     "name": "stdout",
     "output_type": "stream",
     "text": [
      "ID:1\n",
      "Name:R\n",
      "salary:100\n",
      "Department:CSE\n"
     ]
    }
   ],
   "source": [
    "\n",
    "class Employee:\n",
    "  def __init__(self, Id, name, salary, department):\n",
    "    self.Id = Id\n",
    "    self.name = name\n",
    "    self.salary = salary\n",
    "    self.department = department\n",
    "    \n",
    "  def setId(self,Id):\n",
    "    self.Id = Id\n",
    "    \n",
    "  def setName(self, name):\n",
    "    self.name = name\n",
    "    \n",
    "  def setId(self):\n",
    "    self.Id = Id\n",
    "    \n",
    "  def setId(self):\n",
    "    self.Id = Id\n",
    "\n",
    "  def displayEmp(self):\n",
    "    print(\"ID:\" + str(self.Id))\n",
    "    print(\"Name:\" + str(self.name))\n",
    "    print(\"salary:\" + str(self.salary))\n",
    "    print(\"Department:\" + str(self.department))\n",
    "\n",
    "emp = Employee(1,\"R\", 100,\"CSE\")\n",
    "emp.displayEmp()\n",
    "    "
   ]
  },
  {
   "cell_type": "code",
   "execution_count": null,
   "metadata": {},
   "outputs": [],
   "source": []
  },
  {
   "cell_type": "code",
   "execution_count": null,
   "metadata": {},
   "outputs": [],
   "source": []
  },
  {
   "cell_type": "code",
   "execution_count": null,
   "metadata": {},
   "outputs": [],
   "source": []
  },
  {
   "cell_type": "code",
   "execution_count": null,
   "metadata": {},
   "outputs": [],
   "source": []
  },
  {
   "cell_type": "code",
   "execution_count": null,
   "metadata": {},
   "outputs": [],
   "source": []
  },
  {
   "cell_type": "code",
   "execution_count": null,
   "metadata": {},
   "outputs": [],
   "source": []
  },
  {
   "cell_type": "code",
   "execution_count": null,
   "metadata": {},
   "outputs": [],
   "source": []
  },
  {
   "cell_type": "code",
   "execution_count": null,
   "metadata": {},
   "outputs": [],
   "source": []
  },
  {
   "cell_type": "code",
   "execution_count": null,
   "metadata": {},
   "outputs": [],
   "source": []
  }
 ],
 "metadata": {
  "kernelspec": {
   "display_name": "Python 3",
   "language": "python",
   "name": "python3"
  },
  "language_info": {
   "codemirror_mode": {
    "name": "ipython",
    "version": 3
   },
   "file_extension": ".py",
   "mimetype": "text/x-python",
   "name": "python",
   "nbconvert_exporter": "python",
   "pygments_lexer": "ipython3",
   "version": "3.6.4"
  }
 },
 "nbformat": 4,
 "nbformat_minor": 2
}
